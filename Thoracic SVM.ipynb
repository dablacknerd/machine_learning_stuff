{
 "cells": [
  {
   "cell_type": "code",
   "execution_count": 1,
   "metadata": {
    "collapsed": false
   },
   "outputs": [
    {
     "data": {
      "text/html": [
       "<div>\n",
       "<table border=\"1\" class=\"dataframe\">\n",
       "  <thead>\n",
       "    <tr style=\"text-align: right;\">\n",
       "      <th></th>\n",
       "      <th>Diagnosis</th>\n",
       "      <th>FVC</th>\n",
       "      <th>FEV1</th>\n",
       "      <th>Zubrod scale</th>\n",
       "      <th>Pain before surgery</th>\n",
       "      <th>Haemoptysis before surgery</th>\n",
       "      <th>Dyspnoea before surgery</th>\n",
       "      <th>Cough before surgery</th>\n",
       "      <th>Weakness before surgery</th>\n",
       "      <th>T in clinical TNM</th>\n",
       "      <th>Type 2 DM</th>\n",
       "      <th>MI up to 6 months</th>\n",
       "      <th>PAD</th>\n",
       "      <th>Smoking</th>\n",
       "      <th>Asthma</th>\n",
       "      <th>Age at surgery</th>\n",
       "      <th>1 year survival period</th>\n",
       "    </tr>\n",
       "  </thead>\n",
       "  <tbody>\n",
       "    <tr>\n",
       "      <th>0</th>\n",
       "      <td>DGN2</td>\n",
       "      <td>2.88</td>\n",
       "      <td>2.16</td>\n",
       "      <td>PRZ1</td>\n",
       "      <td>F</td>\n",
       "      <td>F</td>\n",
       "      <td>F</td>\n",
       "      <td>T</td>\n",
       "      <td>T</td>\n",
       "      <td>OC14</td>\n",
       "      <td>F</td>\n",
       "      <td>F</td>\n",
       "      <td>F</td>\n",
       "      <td>T</td>\n",
       "      <td>F</td>\n",
       "      <td>60</td>\n",
       "      <td>F</td>\n",
       "    </tr>\n",
       "    <tr>\n",
       "      <th>1</th>\n",
       "      <td>DGN3</td>\n",
       "      <td>3.40</td>\n",
       "      <td>1.88</td>\n",
       "      <td>PRZ0</td>\n",
       "      <td>F</td>\n",
       "      <td>F</td>\n",
       "      <td>F</td>\n",
       "      <td>F</td>\n",
       "      <td>F</td>\n",
       "      <td>OC12</td>\n",
       "      <td>F</td>\n",
       "      <td>F</td>\n",
       "      <td>F</td>\n",
       "      <td>T</td>\n",
       "      <td>F</td>\n",
       "      <td>51</td>\n",
       "      <td>F</td>\n",
       "    </tr>\n",
       "    <tr>\n",
       "      <th>2</th>\n",
       "      <td>DGN3</td>\n",
       "      <td>2.76</td>\n",
       "      <td>2.08</td>\n",
       "      <td>PRZ1</td>\n",
       "      <td>F</td>\n",
       "      <td>F</td>\n",
       "      <td>F</td>\n",
       "      <td>T</td>\n",
       "      <td>F</td>\n",
       "      <td>OC11</td>\n",
       "      <td>F</td>\n",
       "      <td>F</td>\n",
       "      <td>F</td>\n",
       "      <td>T</td>\n",
       "      <td>F</td>\n",
       "      <td>59</td>\n",
       "      <td>F</td>\n",
       "    </tr>\n",
       "    <tr>\n",
       "      <th>3</th>\n",
       "      <td>DGN3</td>\n",
       "      <td>3.68</td>\n",
       "      <td>3.04</td>\n",
       "      <td>PRZ0</td>\n",
       "      <td>F</td>\n",
       "      <td>F</td>\n",
       "      <td>F</td>\n",
       "      <td>F</td>\n",
       "      <td>F</td>\n",
       "      <td>OC11</td>\n",
       "      <td>F</td>\n",
       "      <td>F</td>\n",
       "      <td>F</td>\n",
       "      <td>F</td>\n",
       "      <td>F</td>\n",
       "      <td>54</td>\n",
       "      <td>F</td>\n",
       "    </tr>\n",
       "    <tr>\n",
       "      <th>4</th>\n",
       "      <td>DGN3</td>\n",
       "      <td>2.44</td>\n",
       "      <td>0.96</td>\n",
       "      <td>PRZ2</td>\n",
       "      <td>F</td>\n",
       "      <td>T</td>\n",
       "      <td>F</td>\n",
       "      <td>T</td>\n",
       "      <td>T</td>\n",
       "      <td>OC11</td>\n",
       "      <td>F</td>\n",
       "      <td>F</td>\n",
       "      <td>F</td>\n",
       "      <td>T</td>\n",
       "      <td>F</td>\n",
       "      <td>73</td>\n",
       "      <td>T</td>\n",
       "    </tr>\n",
       "  </tbody>\n",
       "</table>\n",
       "</div>"
      ],
      "text/plain": [
       "  Diagnosis   FVC  FEV1 Zubrod scale Pain before surgery  \\\n",
       "0      DGN2  2.88  2.16         PRZ1                   F   \n",
       "1      DGN3  3.40  1.88         PRZ0                   F   \n",
       "2      DGN3  2.76  2.08         PRZ1                   F   \n",
       "3      DGN3  3.68  3.04         PRZ0                   F   \n",
       "4      DGN3  2.44  0.96         PRZ2                   F   \n",
       "\n",
       "  Haemoptysis before surgery Dyspnoea before surgery Cough before surgery  \\\n",
       "0                          F                       F                    T   \n",
       "1                          F                       F                    F   \n",
       "2                          F                       F                    T   \n",
       "3                          F                       F                    F   \n",
       "4                          T                       F                    T   \n",
       "\n",
       "  Weakness before surgery T in clinical TNM Type 2 DM MI up to 6 months PAD  \\\n",
       "0                       T              OC14         F                 F   F   \n",
       "1                       F              OC12         F                 F   F   \n",
       "2                       F              OC11         F                 F   F   \n",
       "3                       F              OC11         F                 F   F   \n",
       "4                       T              OC11         F                 F   F   \n",
       "\n",
       "  Smoking Asthma  Age at surgery 1 year survival period  \n",
       "0       T      F              60                      F  \n",
       "1       T      F              51                      F  \n",
       "2       T      F              59                      F  \n",
       "3       F      F              54                      F  \n",
       "4       T      F              73                      T  "
      ]
     },
     "execution_count": 1,
     "metadata": {},
     "output_type": "execute_result"
    }
   ],
   "source": [
    "import pandas as pd\n",
    "thoracic_df = pd.read_csv(\"C:\\\\Users\\\\aoguntuga\\\\Documents\\\\DataSets\\\\thoracic.csv\", sep =',',\n",
    "                          index_col=False,\n",
    "                          names=['Diagnosis','FVC','FEV1','Zubrod scale',\n",
    "                                   'Pain before surgery','Haemoptysis before surgery','Dyspnoea before surgery',\n",
    "                                   'Cough before surgery','Weakness before surgery','T in clinical TNM','Type 2 DM',\n",
    "                                   'MI up to 6 months','PAD','Smoking','Asthma','Age at surgery','1 year survival period']\n",
    "                         )\n",
    "thoracic_df.head()"
   ]
  },
  {
   "cell_type": "code",
   "execution_count": 2,
   "metadata": {
    "collapsed": false
   },
   "outputs": [
    {
     "data": {
      "text/html": [
       "<div>\n",
       "<table border=\"1\" class=\"dataframe\">\n",
       "  <thead>\n",
       "    <tr style=\"text-align: right;\">\n",
       "      <th></th>\n",
       "      <th>Diagnosis</th>\n",
       "      <th>FVC</th>\n",
       "      <th>FEV1</th>\n",
       "      <th>Zubrod scale</th>\n",
       "      <th>Pain before surgery</th>\n",
       "      <th>Haemoptysis before surgery</th>\n",
       "      <th>Dyspnoea before surgery</th>\n",
       "      <th>Cough before surgery</th>\n",
       "      <th>Weakness before surgery</th>\n",
       "      <th>T in clinical TNM</th>\n",
       "      <th>Type 2 DM</th>\n",
       "      <th>MI up to 6 months</th>\n",
       "      <th>PAD</th>\n",
       "      <th>Smoking</th>\n",
       "      <th>Asthma</th>\n",
       "      <th>Age at surgery</th>\n",
       "      <th>1 year survival period</th>\n",
       "    </tr>\n",
       "  </thead>\n",
       "  <tbody>\n",
       "    <tr>\n",
       "      <th>0</th>\n",
       "      <td>2</td>\n",
       "      <td>2.88</td>\n",
       "      <td>2.16</td>\n",
       "      <td>1</td>\n",
       "      <td>0</td>\n",
       "      <td>0</td>\n",
       "      <td>0</td>\n",
       "      <td>1</td>\n",
       "      <td>1</td>\n",
       "      <td>4</td>\n",
       "      <td>0</td>\n",
       "      <td>0</td>\n",
       "      <td>0</td>\n",
       "      <td>1</td>\n",
       "      <td>0</td>\n",
       "      <td>60</td>\n",
       "      <td>0</td>\n",
       "    </tr>\n",
       "    <tr>\n",
       "      <th>1</th>\n",
       "      <td>3</td>\n",
       "      <td>3.40</td>\n",
       "      <td>1.88</td>\n",
       "      <td>0</td>\n",
       "      <td>0</td>\n",
       "      <td>0</td>\n",
       "      <td>0</td>\n",
       "      <td>0</td>\n",
       "      <td>0</td>\n",
       "      <td>2</td>\n",
       "      <td>0</td>\n",
       "      <td>0</td>\n",
       "      <td>0</td>\n",
       "      <td>1</td>\n",
       "      <td>0</td>\n",
       "      <td>51</td>\n",
       "      <td>0</td>\n",
       "    </tr>\n",
       "    <tr>\n",
       "      <th>2</th>\n",
       "      <td>3</td>\n",
       "      <td>2.76</td>\n",
       "      <td>2.08</td>\n",
       "      <td>1</td>\n",
       "      <td>0</td>\n",
       "      <td>0</td>\n",
       "      <td>0</td>\n",
       "      <td>1</td>\n",
       "      <td>0</td>\n",
       "      <td>1</td>\n",
       "      <td>0</td>\n",
       "      <td>0</td>\n",
       "      <td>0</td>\n",
       "      <td>1</td>\n",
       "      <td>0</td>\n",
       "      <td>59</td>\n",
       "      <td>0</td>\n",
       "    </tr>\n",
       "    <tr>\n",
       "      <th>3</th>\n",
       "      <td>3</td>\n",
       "      <td>3.68</td>\n",
       "      <td>3.04</td>\n",
       "      <td>0</td>\n",
       "      <td>0</td>\n",
       "      <td>0</td>\n",
       "      <td>0</td>\n",
       "      <td>0</td>\n",
       "      <td>0</td>\n",
       "      <td>1</td>\n",
       "      <td>0</td>\n",
       "      <td>0</td>\n",
       "      <td>0</td>\n",
       "      <td>0</td>\n",
       "      <td>0</td>\n",
       "      <td>54</td>\n",
       "      <td>0</td>\n",
       "    </tr>\n",
       "    <tr>\n",
       "      <th>4</th>\n",
       "      <td>3</td>\n",
       "      <td>2.44</td>\n",
       "      <td>0.96</td>\n",
       "      <td>2</td>\n",
       "      <td>0</td>\n",
       "      <td>1</td>\n",
       "      <td>0</td>\n",
       "      <td>1</td>\n",
       "      <td>1</td>\n",
       "      <td>1</td>\n",
       "      <td>0</td>\n",
       "      <td>0</td>\n",
       "      <td>0</td>\n",
       "      <td>1</td>\n",
       "      <td>0</td>\n",
       "      <td>73</td>\n",
       "      <td>1</td>\n",
       "    </tr>\n",
       "  </tbody>\n",
       "</table>\n",
       "</div>"
      ],
      "text/plain": [
       "   Diagnosis   FVC  FEV1  Zubrod scale  Pain before surgery  \\\n",
       "0          2  2.88  2.16             1                    0   \n",
       "1          3  3.40  1.88             0                    0   \n",
       "2          3  2.76  2.08             1                    0   \n",
       "3          3  3.68  3.04             0                    0   \n",
       "4          3  2.44  0.96             2                    0   \n",
       "\n",
       "   Haemoptysis before surgery  Dyspnoea before surgery  Cough before surgery  \\\n",
       "0                           0                        0                     1   \n",
       "1                           0                        0                     0   \n",
       "2                           0                        0                     1   \n",
       "3                           0                        0                     0   \n",
       "4                           1                        0                     1   \n",
       "\n",
       "   Weakness before surgery  T in clinical TNM  Type 2 DM  MI up to 6 months  \\\n",
       "0                        1                  4          0                  0   \n",
       "1                        0                  2          0                  0   \n",
       "2                        0                  1          0                  0   \n",
       "3                        0                  1          0                  0   \n",
       "4                        1                  1          0                  0   \n",
       "\n",
       "   PAD  Smoking  Asthma  Age at surgery  1 year survival period  \n",
       "0    0        1       0              60                       0  \n",
       "1    0        1       0              51                       0  \n",
       "2    0        1       0              59                       0  \n",
       "3    0        0       0              54                       0  \n",
       "4    0        1       0              73                       1  "
      ]
     },
     "execution_count": 2,
     "metadata": {},
     "output_type": "execute_result"
    }
   ],
   "source": [
    "d1 = {'F':0, 'T':1}\n",
    "d2 = {'PRZ2': 2,'PRZ1':1,'PRZ0':0}\n",
    "d3 = {'DGN3':3,'DGN2':2,'DGN4':4,'DGN6':6,'DGN5':5,'DGN8':8,'DGN1':1,'DGN7':7}\n",
    "d4 = {'OC11':1,'OC12':2,'OC13':3,'OC14':4}\n",
    "thoracic_df['Diagnosis'] = thoracic_df['Diagnosis'].map(d3)\n",
    "thoracic_df['Zubrod scale'] = thoracic_df['Zubrod scale'].map(d2)\n",
    "thoracic_df['T in clinical TNM'] = thoracic_df['T in clinical TNM'].map(d4)\n",
    "thoracic_df['Asthma'] = thoracic_df['Asthma'].map(d1)\n",
    "thoracic_df['PAD'] = thoracic_df['PAD'].map(d1)\n",
    "thoracic_df['Smoking'] = thoracic_df['Smoking'].map(d1)\n",
    "thoracic_df['Cough before surgery'] = thoracic_df['Cough before surgery'].map(d1)\n",
    "thoracic_df['Weakness before surgery'] = thoracic_df['Weakness before surgery'].map(d1)\n",
    "thoracic_df['Dyspnoea before surgery'] = thoracic_df['Dyspnoea before surgery'].map(d1)\n",
    "thoracic_df['Haemoptysis before surgery'] = thoracic_df['Haemoptysis before surgery'].map(d1)\n",
    "thoracic_df['Pain before surgery'] = thoracic_df['Pain before surgery'].map(d1)\n",
    "thoracic_df['Type 2 DM'] = thoracic_df['Type 2 DM'].map(d1)\n",
    "thoracic_df['MI up to 6 months'] = thoracic_df['MI up to 6 months'].map(d1)\n",
    "thoracic_df['1 year survival period'] = thoracic_df['1 year survival period'].map(d1)\n",
    "\n",
    "thoracic_df.head()"
   ]
  },
  {
   "cell_type": "code",
   "execution_count": 7,
   "metadata": {
    "collapsed": false
   },
   "outputs": [],
   "source": [
    "features = list(thoracic_df.columns[0:16])\n",
    "X_features = thoracic_df[features].as_matrix()\n",
    "Y_targets = thoracic_df['1 year survival period'].as_matrix()"
   ]
  },
  {
   "cell_type": "code",
   "execution_count": 6,
   "metadata": {
    "collapsed": false
   },
   "outputs": [
    {
     "data": {
      "text/plain": [
       "array([[  2.  ,   2.88,   2.16, ...,   1.  ,   0.  ,  60.  ],\n",
       "       [  3.  ,   3.4 ,   1.88, ...,   1.  ,   0.  ,  51.  ],\n",
       "       [  3.  ,   2.76,   2.08, ...,   1.  ,   0.  ,  59.  ],\n",
       "       ..., \n",
       "       [  3.  ,   3.04,   2.08, ...,   0.  ,   0.  ,  52.  ],\n",
       "       [  3.  ,   1.96,   1.68, ...,   1.  ,   0.  ,  79.  ],\n",
       "       [  3.  ,   4.72,   3.56, ...,   1.  ,   0.  ,  51.  ]])"
      ]
     },
     "execution_count": 6,
     "metadata": {},
     "output_type": "execute_result"
    }
   ],
   "source": [
    "X_features"
   ]
  },
  {
   "cell_type": "code",
   "execution_count": 8,
   "metadata": {
    "collapsed": false
   },
   "outputs": [
    {
     "data": {
      "text/plain": [
       "array([0, 0, 0, 0, 1, 0, 1, 1, 0, 0, 0, 0, 0, 1, 0, 0, 0, 0, 0, 0, 0, 0, 0,\n",
       "       0, 1, 0, 0, 1, 0, 0, 1, 0, 0, 0, 0, 0, 0, 0, 0, 0, 1, 1, 0, 1, 0, 0,\n",
       "       0, 1, 0, 0, 0, 0, 0, 0, 0, 0, 0, 1, 0, 0, 1, 0, 0, 0, 0, 0, 0, 1, 0,\n",
       "       0, 0, 0, 0, 0, 0, 1, 0, 1, 0, 0, 0, 0, 0, 0, 0, 0, 0, 0, 0, 0, 0, 0,\n",
       "       1, 0, 0, 0, 1, 0, 0, 1, 0, 0, 0, 0, 0, 0, 0, 0, 0, 0, 0, 0, 0, 0, 0,\n",
       "       1, 0, 0, 0, 0, 0, 0, 0, 0, 0, 0, 0, 1, 1, 0, 0, 0, 1, 0, 0, 0, 0, 1,\n",
       "       0, 0, 0, 0, 0, 1, 0, 0, 0, 0, 0, 0, 0, 1, 1, 0, 0, 0, 0, 0, 0, 0, 0,\n",
       "       0, 0, 0, 0, 0, 0, 0, 0, 1, 0, 0, 0, 1, 0, 1, 0, 0, 0, 0, 0, 0, 0, 0,\n",
       "       0, 1, 0, 0, 0, 0, 0, 1, 0, 0, 0, 1, 1, 0, 0, 0, 0, 0, 0, 0, 0, 0, 0,\n",
       "       0, 0, 1, 0, 1, 0, 1, 0, 0, 0, 0, 0, 0, 1, 0, 0, 0, 0, 0, 0, 1, 0, 1,\n",
       "       0, 0, 0, 0, 0, 0, 0, 0, 1, 1, 0, 0, 1, 0, 0, 0, 0, 0, 0, 0, 0, 1, 0,\n",
       "       0, 0, 0, 0, 0, 0, 0, 1, 0, 0, 0, 0, 0, 0, 0, 1, 0, 1, 0, 0, 0, 1, 0,\n",
       "       0, 0, 0, 0, 0, 0, 0, 0, 0, 0, 0, 0, 0, 0, 0, 0, 0, 0, 0, 0, 1, 1, 0,\n",
       "       0, 0, 0, 1, 0, 0, 1, 0, 0, 0, 0, 0, 0, 1, 0, 0, 0, 0, 0, 0, 0, 0, 1,\n",
       "       0, 0, 0, 0, 0, 0, 0, 0, 0, 0, 0, 0, 1, 0, 0, 0, 0, 0, 1, 0, 0, 0, 0,\n",
       "       0, 0, 0, 1, 0, 1, 0, 0, 0, 0, 0, 0, 1, 0, 0, 0, 0, 1, 0, 0, 0, 0, 1,\n",
       "       0, 0, 0, 0, 0, 0, 0, 0, 0, 0, 0, 0, 0, 0, 0, 0, 0, 0, 1, 0, 0, 0, 0,\n",
       "       0, 0, 0, 0, 0, 0, 0, 0, 0, 0, 0, 0, 0, 1, 0, 0, 0, 0, 0, 1, 0, 0, 0,\n",
       "       0, 0, 0, 0, 0, 1, 1, 1, 0, 0, 0, 0, 1, 0, 0, 0, 0, 0, 0, 0, 0, 0, 0,\n",
       "       0, 0, 0, 0, 0, 0, 0, 0, 0, 0, 0, 0, 1, 0, 0, 0, 0, 0, 0, 0, 0, 0, 0,\n",
       "       0, 0, 0, 1, 0, 0, 0, 0, 0, 0], dtype=int64)"
      ]
     },
     "execution_count": 8,
     "metadata": {},
     "output_type": "execute_result"
    }
   ],
   "source": [
    "Y_targets"
   ]
  },
  {
   "cell_type": "code",
   "execution_count": 9,
   "metadata": {
    "collapsed": true
   },
   "outputs": [],
   "source": [
    "import numpy as np\n",
    "from sklearn import cross_validation,svm\n",
    "\n",
    "X_train,X_test,y_train,y_test = cross_validation.train_test_split(X_features,Y_targets,test_size = 0.4,random_state=0)"
   ]
  },
  {
   "cell_type": "code",
   "execution_count": 10,
   "metadata": {
    "collapsed": true
   },
   "outputs": [],
   "source": [
    "svm_model = svm.SVC(kernel='linear',C=1).fit(X_train,y_train)"
   ]
  },
  {
   "cell_type": "code",
   "execution_count": 11,
   "metadata": {
    "collapsed": false
   },
   "outputs": [
    {
     "data": {
      "text/plain": [
       "0.8457446808510638"
      ]
     },
     "execution_count": 11,
     "metadata": {},
     "output_type": "execute_result"
    }
   ],
   "source": [
    "svm_model.score(X_test,y_test)"
   ]
  },
  {
   "cell_type": "code",
   "execution_count": 12,
   "metadata": {
    "collapsed": true
   },
   "outputs": [],
   "source": [
    "scores = cross_validation.cross_val_score(svm_model,X_features,Y_targets,cv=5)"
   ]
  },
  {
   "cell_type": "code",
   "execution_count": 13,
   "metadata": {
    "collapsed": false
   },
   "outputs": [
    {
     "data": {
      "text/plain": [
       "array([ 0.85106383,  0.85106383,  0.85106383,  0.85106383,  0.85106383])"
      ]
     },
     "execution_count": 13,
     "metadata": {},
     "output_type": "execute_result"
    }
   ],
   "source": [
    "scores"
   ]
  },
  {
   "cell_type": "code",
   "execution_count": null,
   "metadata": {
    "collapsed": true
   },
   "outputs": [],
   "source": []
  }
 ],
 "metadata": {
  "kernelspec": {
   "display_name": "Python 2",
   "language": "python",
   "name": "python2"
  },
  "language_info": {
   "codemirror_mode": {
    "name": "ipython",
    "version": 2
   },
   "file_extension": ".py",
   "mimetype": "text/x-python",
   "name": "python",
   "nbconvert_exporter": "python",
   "pygments_lexer": "ipython2",
   "version": "2.7.11"
  }
 },
 "nbformat": 4,
 "nbformat_minor": 0
}
